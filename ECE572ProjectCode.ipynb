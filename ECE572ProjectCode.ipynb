{
 "cells": [
  {
   "cell_type": "markdown",
   "metadata": {},
   "source": [
    "### ECE 572 Course Project - Cool Fancy-Dancy Name Here"
   ]
  },
  {
   "cell_type": "markdown",
   "metadata": {},
   "source": [
    "Project Description:\n",
    "Python-based program designed to extract and visualize network traffic information from a Wireshark generated .csv file. \n",
    "\n",
    "Team Members:\n",
    "\n",
    "Devang Sharma - V00931210 - devsharma@uvic.ca\n",
    "\n",
    "Alex Spurgeon - V00818626 - aespurge@uvic.ca\n",
    "\n",
    "Aditya Naren Yerramilli - V00938179 - naren1@uvic.ca\n"
   ]
  },
  {
   "cell_type": "markdown",
   "metadata": {},
   "source": [
    "#### Useful Resources for this project:\n",
    "\n",
    "General References:\n",
    "\n",
    "Pandas: https://nbviewer.jupyter.org/gist/manujeevanprakash/996d18985be612072ee0\n",
    "https://pandas.pydata.org/pandas-docs/stable/getting_started/dsintro.html\n",
    "\n",
    "Mix of everything: https://www.analyticsvidhya.com/blog/2016/01/complete-tutorial-learn-data-science-python-scratch-2/\n",
    "\n",
    "Examples of analysis:\n",
    "https://null-byte.wonderhowto.com/how-to/analyze-wi-fi-data-captures-with-jupyter-notebook-0201490/\n",
    "\n",
    "https://github.com/skickar/Research/blob/master/RedLineResearch.ipynb\n",
    "\n",
    "https://medium.com/hackervalleystudio/learning-packet-analysis-with-data-science-5356a3340d4e\n",
    "\n",
    "https://github.com/secdevopsai/Packet-Analytics/blob/master/Packet-Analytics.ipynb\n",
    "\n",
    "(Some minor examples here) https://www.python4networkengineers.com/posts/wireshark/analyzing_wireshark_data_with_pandas/"
   ]
  },
  {
   "cell_type": "code",
   "execution_count": 1,
   "metadata": {},
   "outputs": [],
   "source": [
    "# Imports and essentials\n",
    "import numpy as np\n",
    "import pandas as pd\n",
    "import matplotlib.pyplot as plt\n",
    "import datetime"
   ]
  },
  {
   "cell_type": "code",
   "execution_count": 4,
   "metadata": {},
   "outputs": [],
   "source": [
    "# Import data from csv files - ECE572Test.csv, ECE572Benign.csv, & ECE572DoS.csv\n",
    "test_df = pd.read_csv('ECE572Test.csv', \n",
    "                 delimiter = ',', encoding='latin-1', header=0) # Header labels all in row = 0\n",
    "normal_df = pd.read_csv('ECE572Benign.csv', \n",
    "                 delimiter = ',', encoding='latin-1', header=0) \n",
    "dos_df = pd.read_csv('ECE572DoS.csv', \n",
    "                 delimiter = ',', encoding='latin-1', header=0) "
   ]
  },
  {
   "cell_type": "code",
   "execution_count": 16,
   "metadata": {},
   "outputs": [
    {
     "name": "stdout",
     "output_type": "stream",
     "text": [
      "   No.                           Time             Source        Destination  \\\n",
      "0    1  2020-07-12 20:54:38.115614448     192.168.56.102     192.168.56.255   \n",
      "1    2  2020-07-12 20:54:38.115854052     192.168.56.101     192.168.56.102   \n",
      "2    3  2020-07-12 20:54:38.115905970       192.168.56.1    255.255.255.255   \n",
      "3    4  2020-07-12 20:54:38.116133751     192.168.56.101       192.168.56.1   \n",
      "4    5  2020-07-12 20:54:43.120683917  PcsCompu_ae:93:92  PcsCompu_af:7b:18   \n",
      "5    6  2020-07-12 20:54:43.120710417  PcsCompu_ae:93:92  0a:00:27:00:00:1a   \n",
      "6    7  2020-07-12 20:54:43.120711737  0a:00:27:00:00:1a  PcsCompu_ae:93:92   \n",
      "7    8  2020-07-12 20:54:43.121003898  PcsCompu_af:7b:18  PcsCompu_ae:93:92   \n",
      "8    9  2020-07-12 20:54:51.116719776     192.168.56.102     192.168.56.101   \n",
      "9   10  2020-07-12 20:54:51.116968323     192.168.56.101     192.168.56.102   \n",
      "\n",
      "  Protocol  Source Port  Dest Port  Length  \\\n",
      "0     NBNS        137.0      137.0      92   \n",
      "1     NBNS        137.0      137.0     104   \n",
      "2     NBNS      54926.0      137.0      92   \n",
      "3     NBNS        137.0    54926.0     104   \n",
      "4      ARP          NaN        NaN      60   \n",
      "5      ARP          NaN        NaN      60   \n",
      "6      ARP          NaN        NaN      60   \n",
      "7      ARP          NaN        NaN      60   \n",
      "8      TCP      60348.0       22.0      74   \n",
      "9      TCP         22.0    60348.0      74   \n",
      "\n",
      "                                                Info  \n",
      "0                        Name query NB WORKGROUP<1d>  \n",
      "1              Name query response NB 192.168.56.101  \n",
      "2                        Name query NB WORKGROUP<1d>  \n",
      "3              Name query response NB 192.168.56.101  \n",
      "4        Who has 192.168.56.102? Tell 192.168.56.101  \n",
      "5          Who has 192.168.56.1? Tell 192.168.56.101  \n",
      "6               192.168.56.1 is at 0a:00:27:00:00:1a  \n",
      "7             192.168.56.102 is at 08:00:27:af:7b:18  \n",
      "8  60348  >  22 [SYN] Seq=0 Win=29200 Len=0 MSS=1...  \n",
      "9  22  >  60348 [SYN, ACK] Seq=0 Ack=1 Win=28960 ...  \n",
      "(9184, 9)\n"
     ]
    }
   ],
   "source": [
    "print(test_df.head(10))\n",
    "print(test_df.shape)"
   ]
  },
  {
   "cell_type": "code",
   "execution_count": 21,
   "metadata": {},
   "outputs": [
    {
     "name": "stdout",
     "output_type": "stream",
     "text": [
      "0      137.0\n",
      "1      137.0\n",
      "2    54926.0\n",
      "3      137.0\n",
      "4        NaN\n",
      "Name: Source Port, dtype: float64\n",
      "   Source Port  Dest Port\n",
      "0        137.0      137.0\n",
      "1        137.0      137.0\n",
      "2      54926.0      137.0\n",
      "3        137.0    54926.0\n",
      "4          NaN        NaN\n",
      "5          NaN        NaN\n",
      "6          NaN        NaN\n",
      "7          NaN        NaN\n",
      "8      60348.0       22.0\n",
      "9         22.0    60348.0\n"
     ]
    }
   ],
   "source": [
    "# Work with one column based on label Source Port\n",
    "print(test_df['Source Port'].head(5))\n",
    "\n",
    "# Print or work with only 2 or more columns based on name e.g. Source Port & Dest Port\n",
    "print(test_df[['Source Port','Dest Port']].head(10))"
   ]
  },
  {
   "cell_type": "code",
   "execution_count": 26,
   "metadata": {},
   "outputs": [
    {
     "name": "stdout",
     "output_type": "stream",
     "text": [
      "   Source Port  Dest Port\n",
      "0        137.0      137.0\n",
      "1        137.0      137.0\n",
      "2      54926.0      137.0\n",
      "3        137.0    54926.0\n",
      "4          0.0        0.0\n",
      "5          0.0        0.0\n",
      "6          0.0        0.0\n",
      "7          0.0        0.0\n",
      "8      60348.0       22.0\n",
      "9         22.0    60348.0\n"
     ]
    }
   ],
   "source": [
    "# Preprocessing - Fill all Missing Port Numbers with '0' for all missing data across all data sets\n",
    "# Missing data is mostly in Source/Destination Ports for Non-TCP/UDP Traffic - e.g. ARP & ICMP\n",
    "test_df = test_df.fillna(0)\n",
    "print(test_df[['Source Port','Dest Port']].head(10))\n",
    "normal_df = normal_df.fillna(0)\n",
    "dos_df = dos_df.fillna(0)"
   ]
  },
  {
   "cell_type": "code",
   "execution_count": null,
   "metadata": {},
   "outputs": [],
   "source": []
  },
  {
   "cell_type": "code",
   "execution_count": null,
   "metadata": {},
   "outputs": [],
   "source": []
  }
 ],
 "metadata": {
  "kernelspec": {
   "display_name": "Python 3",
   "language": "python",
   "name": "python3"
  },
  "language_info": {
   "codemirror_mode": {
    "name": "ipython",
    "version": 3
   },
   "file_extension": ".py",
   "mimetype": "text/x-python",
   "name": "python",
   "nbconvert_exporter": "python",
   "pygments_lexer": "ipython3",
   "version": "3.7.6"
  }
 },
 "nbformat": 4,
 "nbformat_minor": 4
}
